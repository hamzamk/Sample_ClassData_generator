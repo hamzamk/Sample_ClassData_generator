{
 "cells": [
  {
   "cell_type": "code",
   "execution_count": 1,
   "metadata": {},
   "outputs": [],
   "source": [
    "import pymongo\n",
    "from pymongo import MongoClient\n",
    "from bson.objectid import ObjectId\n",
    "import random\n",
    "import pprint\n",
    "import json\n",
    "import urllib\n",
    "import warnings\n",
    "from pprint import pprint\n",
    "import itertools\n",
    "import pandas as pd\n",
    "import numpy as np\n",
    "import time\n",
    "from faker import Faker\n",
    "import matplotlib.pyplot as plt\n",
    "from scipy.stats import skewnorm\n",
    "import datetime"
   ]
  },
  {
   "cell_type": "code",
   "execution_count": 270,
   "metadata": {},
   "outputs": [],
   "source": [
    "def s_name(n=100, r_seed=100):\n",
    "    Faker.seed(r_seed)\n",
    "    faker = Faker()\n",
    "    names = []\n",
    "    for x in range(n):\n",
    "        names.append('{}'.format(faker.name()))\n",
    "    return names\n",
    "\n",
    "def s_grade(n=100, shift=5, skewness=2, r_seed=100):\n",
    "    np.random.seed(r_seed)\n",
    "    rand = beta.rvs(shift, skewness, size=n) * 100  #Skewnorm function\n",
    "    return rand\n",
    "\n",
    "def s_dates(n=100, start='2020-01-01', end='2020-01-03', r_seed=100):\n",
    "    np.random.seed(r_seed)\n",
    "    start = pd.to_datetime(start)\n",
    "    end = pd.to_datetime(end)\n",
    "    start_u = start.value//10**9\n",
    "    end_u = end.value//10**9\n",
    "    date_list = pd.to_datetime(np.random.randint(start_u, end_u, n), unit='s')\n",
    "    string_dlist = [str(x) for x in list(date_list)]\n",
    "    return date_list, string_dlist\n",
    "\n",
    "\n",
    "def s_id(n=100, length=5, r_seed=100):\n",
    "    random.seed(r_seed)\n",
    "    ids = []\n",
    "    for x in range(n):\n",
    "        ids.append('ID'+ str(random.randint(10000, 99999)))\n",
    "    return ids\n",
    "\n",
    "def time_spent(n=100, r_seed=100):\n",
    "    random.seed(r_seed)\n",
    "    numbers = []\n",
    "    for x in range(n):\n",
    "        numbers.append(random.randint(0, 40))\n",
    "    return numbers"
   ]
  },
  {
   "cell_type": "code",
   "execution_count": 295,
   "metadata": {},
   "outputs": [],
   "source": [
    "def generate_data(num=30, start_time='2020-01-01', end_time='2020-01-01 23:59:59', due_date='2020-01-01 22:00:00', \n",
    "                  shift=10, skewness = 2, func_seed = 80, class_name='Chemistry'):\n",
    "\n",
    "    ids = s_id(n=num, r_seed=func_seed)\n",
    "    names = s_name(n=num, r_seed=func_seed)\n",
    "    dates  = s_dates(n=num, start=start_time, end=end_time)\n",
    "    timespent = time_spent(n=num, r_seed=func_seed)\n",
    "    clean_grades = map(int, [x for x in s_grade(n=num, shift=shift, skewness=skewness, r_seed=func_seed)])\n",
    "    \n",
    "    data = pd.DataFrame(data={'ID':ids, 'Name':names, 'Score': clean_grades, 'Submission TimeStamp':dates[0], 'Time spent(minute)':timespent })\n",
    "    data['Status'] = ['Late' if data['Submission TimeStamp'][t].value > pd.to_datetime(due_date).value else 'On Time' for t in range(len(data['Submission TimeStamp']))]\n",
    "    data.loc[(data['Status'] == 'Late') & (data['Score'] <= 30), 'Status'] = 'Missing'\n",
    "    data.loc[data['Status'] == 'Missing', ['Score', 'Submission TimeStamp', 'Time spent(minute)']] = 0\n",
    "    data['Grade'] = ['A' if (100 >= x >=85)  else 'B' if (84>= x >=75) else 'C' if (74>= x >= 65) else 'D' if (64 >= x >= 40) else 'F' for x in data['Score']]\n",
    "    data['Class'] = class_name\n",
    "    return data "
   ]
  },
  {
   "cell_type": "code",
   "execution_count": 343,
   "metadata": {},
   "outputs": [],
   "source": [
    "assignment1 = generate_data(num=30, shift=5, skewness=2, func_seed=99)"
   ]
  },
  {
   "cell_type": "markdown",
   "metadata": {},
   "source": [
    "student consistency i.e. probability of next grade, naive bayes\n"
   ]
  },
  {
   "cell_type": "code",
   "execution_count": 347,
   "metadata": {},
   "outputs": [
    {
     "data": {
      "text/html": [
       "<div>\n",
       "<style scoped>\n",
       "    .dataframe tbody tr th:only-of-type {\n",
       "        vertical-align: middle;\n",
       "    }\n",
       "\n",
       "    .dataframe tbody tr th {\n",
       "        vertical-align: top;\n",
       "    }\n",
       "\n",
       "    .dataframe thead th {\n",
       "        text-align: right;\n",
       "    }\n",
       "</style>\n",
       "<table border=\"1\" class=\"dataframe\">\n",
       "  <thead>\n",
       "    <tr style=\"text-align: right;\">\n",
       "      <th></th>\n",
       "      <th>ID</th>\n",
       "      <th>Name</th>\n",
       "      <th>Score</th>\n",
       "      <th>Submission TimeStamp</th>\n",
       "      <th>Time spent(minute)</th>\n",
       "      <th>Status</th>\n",
       "      <th>Grade</th>\n",
       "      <th>Class</th>\n",
       "    </tr>\n",
       "  </thead>\n",
       "  <tbody>\n",
       "    <tr>\n",
       "      <th>4</th>\n",
       "      <td>ID33435</td>\n",
       "      <td>Claire Winters</td>\n",
       "      <td>92</td>\n",
       "      <td>2020-01-01 18:13:35</td>\n",
       "      <td>11</td>\n",
       "      <td>On Time</td>\n",
       "      <td>A</td>\n",
       "      <td>Chemistry</td>\n",
       "    </tr>\n",
       "    <tr>\n",
       "      <th>12</th>\n",
       "      <td>ID99693</td>\n",
       "      <td>Thomas Martin</td>\n",
       "      <td>89</td>\n",
       "      <td>2020-01-01 19:46:22</td>\n",
       "      <td>34</td>\n",
       "      <td>On Time</td>\n",
       "      <td>A</td>\n",
       "      <td>Chemistry</td>\n",
       "    </tr>\n",
       "    <tr>\n",
       "      <th>13</th>\n",
       "      <td>ID80599</td>\n",
       "      <td>Linda Mcgrath</td>\n",
       "      <td>94</td>\n",
       "      <td>2020-01-01 13:52:34</td>\n",
       "      <td>5</td>\n",
       "      <td>On Time</td>\n",
       "      <td>A</td>\n",
       "      <td>Chemistry</td>\n",
       "    </tr>\n",
       "    <tr>\n",
       "      <th>15</th>\n",
       "      <td>ID91778</td>\n",
       "      <td>John Weiss</td>\n",
       "      <td>91</td>\n",
       "      <td>2020-01-01 23:58:16</td>\n",
       "      <td>31</td>\n",
       "      <td>Late</td>\n",
       "      <td>A</td>\n",
       "      <td>Chemistry</td>\n",
       "    </tr>\n",
       "    <tr>\n",
       "      <th>17</th>\n",
       "      <td>ID36144</td>\n",
       "      <td>Aaron Rivera</td>\n",
       "      <td>89</td>\n",
       "      <td>2020-01-01 04:55:24</td>\n",
       "      <td>26</td>\n",
       "      <td>On Time</td>\n",
       "      <td>A</td>\n",
       "      <td>Chemistry</td>\n",
       "    </tr>\n",
       "    <tr>\n",
       "      <th>23</th>\n",
       "      <td>ID60870</td>\n",
       "      <td>Jennifer Davis</td>\n",
       "      <td>89</td>\n",
       "      <td>2020-01-01 23:25:54</td>\n",
       "      <td>13</td>\n",
       "      <td>Late</td>\n",
       "      <td>A</td>\n",
       "      <td>Chemistry</td>\n",
       "    </tr>\n",
       "    <tr>\n",
       "      <th>24</th>\n",
       "      <td>ID99439</td>\n",
       "      <td>Christopher Thompson</td>\n",
       "      <td>98</td>\n",
       "      <td>2020-01-01 19:48:43</td>\n",
       "      <td>9</td>\n",
       "      <td>On Time</td>\n",
       "      <td>A</td>\n",
       "      <td>Chemistry</td>\n",
       "    </tr>\n",
       "    <tr>\n",
       "      <th>28</th>\n",
       "      <td>ID96581</td>\n",
       "      <td>Dwayne Willis</td>\n",
       "      <td>88</td>\n",
       "      <td>2020-01-01 05:56:17</td>\n",
       "      <td>21</td>\n",
       "      <td>On Time</td>\n",
       "      <td>A</td>\n",
       "      <td>Chemistry</td>\n",
       "    </tr>\n",
       "  </tbody>\n",
       "</table>\n",
       "</div>"
      ],
      "text/plain": [
       "         ID                  Name  Score Submission TimeStamp  \\\n",
       "4   ID33435        Claire Winters     92  2020-01-01 18:13:35   \n",
       "12  ID99693         Thomas Martin     89  2020-01-01 19:46:22   \n",
       "13  ID80599         Linda Mcgrath     94  2020-01-01 13:52:34   \n",
       "15  ID91778            John Weiss     91  2020-01-01 23:58:16   \n",
       "17  ID36144          Aaron Rivera     89  2020-01-01 04:55:24   \n",
       "23  ID60870        Jennifer Davis     89  2020-01-01 23:25:54   \n",
       "24  ID99439  Christopher Thompson     98  2020-01-01 19:48:43   \n",
       "28  ID96581         Dwayne Willis     88  2020-01-01 05:56:17   \n",
       "\n",
       "    Time spent(minute)   Status Grade      Class  \n",
       "4                   11  On Time     A  Chemistry  \n",
       "12                  34  On Time     A  Chemistry  \n",
       "13                   5  On Time     A  Chemistry  \n",
       "15                  31     Late     A  Chemistry  \n",
       "17                  26  On Time     A  Chemistry  \n",
       "23                  13     Late     A  Chemistry  \n",
       "24                   9  On Time     A  Chemistry  \n",
       "28                  21  On Time     A  Chemistry  "
      ]
     },
     "execution_count": 347,
     "metadata": {},
     "output_type": "execute_result"
    }
   ],
   "source": [
    "assignment1[assignment1['Grade'] == 'A']"
   ]
  },
  {
   "cell_type": "code",
   "execution_count": 367,
   "metadata": {},
   "outputs": [
    {
     "data": {
      "text/plain": [
       "50.10152717019101"
      ]
     },
     "execution_count": 367,
     "metadata": {},
     "output_type": "execute_result"
    },
    {
     "data": {
      "image/png": "[encoded data removed]",
      "text/plain": [
       "<Figure size 324x216 with 1 Axes>"
      ]
     },
     "metadata": {},
     "output_type": "display_data"
    }
   ],
   "source": [
    "data_beta = beta.rvs(5, 5, size=10000) * 100\n",
    "ax = sns.distplot(data_beta,\n",
    "                  kde=False,\n",
    "                  bins=100,\n",
    "                  color='skyblue',\n",
    "                  hist_kws={\"linewidth\": 15,'alpha':1})\n",
    "ax.set(xlabel='Beta(1,1)', ylabel='Frequency')\n",
    "data_beta.mean()"
   ]
  },
  {
   "cell_type": "code",
   "execution_count": null,
   "metadata": {},
   "outputs": [],
   "source": [
    "def randomizer(num, 'high', 'medium', 'low'):\n",
    "    quiz_dict = {}\n",
    "    low = [10, 2]\n",
    "    medium = [5, 2]\n",
    "    high = [5, 5]\n",
    "    generate_data(num=num, shift=5, skewness=2, func_seed=99)\n",
    "    return quiz_dict"
   ]
  },
  {
   "cell_type": "code",
   "execution_count": null,
   "metadata": {},
   "outputs": [],
   "source": []
  }
 ],
 "metadata": {
  "kernelspec": {
   "display_name": "Python 3",
   "language": "python",
   "name": "python3"
  },
  "language_info": {
   "codemirror_mode": {
    "name": "ipython",
    "version": 3
   },
   "file_extension": ".py",
   "mimetype": "text/x-python",
   "name": "python",
   "nbconvert_exporter": "python",
   "pygments_lexer": "ipython3",
   "version": "3.8.5"
  }
 },
 "nbformat": 4,
 "nbformat_minor": 4
}
